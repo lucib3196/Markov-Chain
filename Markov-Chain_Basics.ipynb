{
 "cells": [
  {
   "attachments": {
    "image.png": {
     "image/png": "[encoded data removed]"
    }
   },
   "cell_type": "markdown",
   "metadata": {},
   "source": [
    "# Markov Chains\n",
    "\n",
    "A markov chain allows us to predict the outcome of an event given previous outcomes. \n",
    "\n",
    "## Example \n",
    "Let's consider that we had a simple bike sharing program with only 3 stations; A, B and C.\n",
    "\n",
    "Assuming each bike needs to be returned at the end of the day, such that all bikes are at some station.\n",
    "\n",
    "We want to model the movement of bikes from day to day. We find that over a one day period the\n",
    "\n",
    "- of the bikes borrowed from station A, 30% are returned to station A, 50% end up at station B, and 20% end up at station C.\n",
    "- of the bikes borrowed from station B, 10% end up at station A, 60% have been returned to station B, and 30% end up at station C\n",
    "- of the bikes borrowed from station C, 10% end up at station A, 10% end up at station B, and 80% are returned to station C.\n",
    "This can be shown in a diagram as\n",
    "![Pasted image 20240326145448.png](attachment:image.png)\n",
    "\n",
    "We can represent the following as a Transition Matrix of Probability. This matrix gives us the change in probability in each type of change in a given system.\n",
    "$$T = \\begin{bmatrix}\n",
    "    \\ &A & B & C \\\\\n",
    "    A & 0.3 & 0.5 & 0.2 \\\\\n",
    "    B & 0.1 & 0.6 & 0.3 \\\\\n",
    "    C & 0.1 & 0.1 & 0.8\n",
    "\\end{bmatrix}\n",
    "$$\n",
    "\n",
    "## Properites of Transition Matrix\n",
    "- Row: Represents Initial State\n",
    "- Column: Represents Terminal State\n",
    "- $T_{ij}$ : The probability of moving from the state represented by row i to the state represented by row j in a single transition $0\\le T_{ij} \\le 1$ \n",
    "- $T_{ij}$ is a [[Conditional Probability]] read as  P(next state is the state in column j | current state is the state in row i)\n",
    "- Sum of all probabilities from row should equal 1\n",
    "- Transition matrix represents change over one transition period\n",
    "\n",
    "\n",
    "## Calculating Change in State\n",
    "The transition matrix shows the probabilities for transitions between states at two consecutives times. We need a way to represent the distribution among these states at a particular point in time. \n",
    "\n",
    "To do this we can set up a **State Vector/State Matrix**($X_0$) which shows the current state. \n",
    "\n",
    "For example lets say the current distribution of bikes is \n",
    "A: 0.30\n",
    "B: 0.50\n",
    "C: 0.20\n",
    "Our transition vector $X_0 = [0.30,0.5,0.2]$ \n",
    "\n",
    "And we are interested in finding the change after one day $X_1$\n",
    "\n",
    "$$X_1 = \\begin{bmatrix} & 0.3 &  0.5 &  0.2 \\end{bmatrix} \\times \\begin{bmatrix}\n",
    "    & 0.3 & 0.5 & 0.2 \\\\\n",
    "    & 0.1 & 0.6 & 0.3 \\\\\n",
    "   & 0.1 & 0.1 & 0.8\n",
    "\\end{bmatrix}\n",
    "$$\n",
    "$$X_1 = [0.16, 0.47, 0.37]$$\n",
    "\n",
    "\n",
    "## Nth State Matrix of Markov Chain\n",
    "If we wanted to calculate the state after 2 days, we would essentially repeat the process but use the value of $X_1$\n",
    "$$X_2 = \\begin{bmatrix} & 0.16 &   0.47 &  0.37 \\end{bmatrix} \\times \\begin{bmatrix}\n",
    "    & 0.3 & 0.5 & 0.2 \\\\\n",
    "    & 0.1 & 0.6 & 0.3 \\\\\n",
    "   & 0.1 & 0.1 & 0.8\n",
    "\\end{bmatrix}\n",
    "$$\n",
    "\n",
    "This process is tedious but there is a short hand \n",
    "$$ X_1=X_0T$$\n",
    "$$X_2=X_1T =(X_0T)T=X_0T^2$$\n",
    "$$X_3=X_3T =(X_0T^2)T=X_0T^3$$\n",
    "$$X_n=X_0T^n$$"
   ]
  },
  {
   "cell_type": "code",
   "execution_count": 5,
   "metadata": {},
   "outputs": [
    {
     "name": "stdout",
     "output_type": "stream",
     "text": [
      "X1: [0.16 0.47 0.37]\n",
      "X2: [0.132 0.399 0.469]\n"
     ]
    }
   ],
   "source": [
    "import numpy as np\n",
    "import pandas as pd\n",
    "## Calculating State \n",
    "def calculate_state(initial_state, transition_mat, iter):\n",
    "  transition_mat = np.linalg.matrix_power(transition_mat,iter)\n",
    "  result = np.matmul(initial_state, transition_mat)\n",
    "  return result\n",
    "V0 = [0.3, 0.5, 0.2]\n",
    "T = np.array([\n",
    "    [0.3, 0.5, 0.2],\n",
    "    [0.1, 0.6, 0.3],\n",
    "    [0.1, 0.1, 0.8]\n",
    "])\n",
    "\n",
    "X_1 = calculate_state(V0,T,1)\n",
    "X_2 = calculate_state(V0,T,2)\n",
    "print(\"X1:\", X_1)\n",
    "print(\"X2:\", X_2)"
   ]
  },
  {
   "cell_type": "markdown",
   "metadata": {},
   "source": [
    "## Steady State Matrices\n",
    "When using Markov chains, after many iterations the state matrix $X_n$ starts to have very little change leading to a constant value\n",
    "\n",
    "Essentially the matrix stabilized reaching steady state.\n",
    "Then we can say that $P^nX$ reaches a limit, $\\overline{X}$. This limit is called **Steady State Matrix**"
   ]
  },
  {
   "cell_type": "code",
   "execution_count": 8,
   "metadata": {},
   "outputs": [
    {
     "name": "stdout",
     "output_type": "stream",
     "text": [
      "X50: [0.12500002 0.30042315 0.57457683]\n",
      "X100: [0.125 0.3   0.575]\n"
     ]
    }
   ],
   "source": [
    "import numpy as np\n",
    "import pandas as pd\n",
    "## Calculating State \n",
    "def calculate_state(initial_state, transition_mat, iter):\n",
    "  transition_mat = np.linalg.matrix_power(transition_mat,iter)\n",
    "  result = np.matmul(initial_state, transition_mat)\n",
    "  return result\n",
    "V0 = [0.3, 0.5, 0.2]\n",
    "T = np.array([\n",
    "    [0.3, 0.5, 0.2],\n",
    "    [0.1, 0.6, 0.3],\n",
    "    [0.1, 0.1, 0.8]\n",
    "])\n",
    "\n",
    "X_10 = calculate_state(V0,T,10)\n",
    "X_100 = calculate_state(V0,T,100)\n",
    "print(\"X50:\", X_10)\n",
    "print(\"X100:\", X_100)"
   ]
  },
  {
   "cell_type": "markdown",
   "metadata": {},
   "source": [
    "## Regular Markov Chains\n",
    "However not all Markov chains reach steady state. One type of matrix that reaches steady state is the a regular markov chain\n",
    "## Determining if Matrix Is Regular \n",
    "To determine if a Markov chain is regular, we examine its transition matrix T and powers, $T^n$, of the transition matrix. If we find any power n for which $T^n$ has only positive entries (no zero entries), then we know the Markov chain is regular and is guaranteed to reach a state of equilibrium in the long run.\n",
    "\n",
    "We don't need to examine a lot of powers, there is a theorem that allows us to check, where n is the number of states\n",
    "$$m\\le (n-1)^2+1$$\n",
    "For a 3x3 (n=3) matrix we need to see all the T up to the 5th power and observe that it contains all positive entries except zero"
   ]
  },
  {
   "cell_type": "code",
   "execution_count": 11,
   "metadata": {},
   "outputs": [
    {
     "name": "stdout",
     "output_type": "stream",
     "text": [
      "[[0.3 0.5 0.2]\n",
      " [0.1 0.6 0.3]\n",
      " [0.1 0.1 0.8]]\n",
      "[[0.16 0.47 0.37]\n",
      " [0.12 0.44 0.44]\n",
      " [0.12 0.19 0.69]]\n",
      "[[0.132 0.399 0.469]\n",
      " [0.124 0.368 0.508]\n",
      " [0.124 0.243 0.633]]\n",
      "[[0.1264 0.3523 0.5213]\n",
      " [0.1248 0.3336 0.5416]\n",
      " [0.1248 0.2711 0.6041]]\n",
      "[[0.12528 0.32671 0.54801]\n",
      " [0.12496 0.31672 0.55832]\n",
      " [0.12496 0.28547 0.58957]]\n",
      "The matrix T_regular is regular: True\n",
      "[[0.3 0.5 0.2]\n",
      " [1.  0.  0. ]\n",
      " [0.1 0.1 0.8]]\n",
      "The matrix T_not is regular: False\n"
     ]
    }
   ],
   "source": [
    "def regular_matrix(matrix):\n",
    "    rows, _ = matrix.shape\n",
    "    max_iter = (rows - 1)**2 + 1\n",
    "\n",
    "    for i in range(1, max_iter + 1):\n",
    "        T = np.linalg.matrix_power(matrix, i)\n",
    "        print(T)\n",
    "        contains_zero = any(0 in row for row in matrix)\n",
    "        if contains_zero == True:\n",
    "          return False\n",
    "          break\n",
    "    return True\n",
    "\n",
    "T_regular = np.array([\n",
    "    [0.3, 0.5, 0.2],\n",
    "    [0.1, 0.6, 0.3],\n",
    "    [0.1, 0.1, 0.8]\n",
    "])\n",
    "\n",
    "T_not = np.array([\n",
    "    [0.3, 0.5, 0.2],\n",
    "    [1, 0, 0],\n",
    "    [0.1, 0.1, 0.8]\n",
    "])\n",
    "\n",
    "print(\"The matrix T_regular is regular:\", str(regular_matrix(T_regular)))\n",
    "print(\"The matrix T_not is regular:\", str(regular_matrix(T_not)))"
   ]
  },
  {
   "cell_type": "markdown",
   "metadata": {},
   "source": [
    "## Properties of Steady State Matrix\n",
    "\n",
    "Let $T$ be a transition matrix for a regular Markov chain. The characteristics and the approach to reach the steady state include:\n",
    "\n",
    "- As we take higher powers of $T^n$, where $n$ approaches infinity, the matrix converges to a state of equilibrium. This equilibrium signifies that the system has reached a steady state where subsequent state probabilities remain constant over time.\n",
    "\n",
    "- The equilibrium distribution vector $E$ satisfies the condition $ET = E$, meaning it remains unchanged by the application of the transition matrix $T$.\n",
    "\n",
    "## Solving for the Steady State\n",
    "\n",
    "The equation to find the steady state, \n",
    "$ET = E$\n",
    "can be approached through the properties of eigenvalues and eigenvectors,\n",
    "$Av = \\lambda v.$\n",
    "\n",
    "Here, our $\\lambda$ (eigenvalue) is set to one, as we seek an eigenvalue that maps the vector back to itself, indicative of a steady state.\n",
    "\n",
    "Furthermore, an additional requirement must be met:\n",
    "- All the elements of the eigenvector must sum to 1 to represent a valid probability distribution. This condition ensures that the eigenvector, representing the steady state distribution, is indeed a probability vector, with all values contributing to a total probability of 1."
   ]
  },
  {
   "cell_type": "code",
   "execution_count": 21,
   "metadata": {},
   "outputs": [],
   "source": [
    "def determine_orientation(matrix):\n",
    "    # Calculate the sum of elements across rows and columns\n",
    "    row_sums = np.sum(matrix, axis=1)\n",
    "    column_sums = np.sum(matrix, axis=0)\n",
    "\n",
    "    # Check if all row sums are close to 1\n",
    "    if np.allclose(row_sums, 1, atol=1e-8):\n",
    "        orientation = \"Row\"\n",
    "    # Check if all column sums are close to 1\n",
    "    elif np.allclose(column_sums, 1, atol=1e-8):\n",
    "        orientation = \"Column\"\n",
    "    # Handle the case where neither condition is met\n",
    "    else:\n",
    "        orientation = \"Error: sum of row or column does not equal 1\"\n",
    "    return orientation\n",
    "def regular_matrix(matrix):\n",
    "    rows, _ = matrix.shape\n",
    "    max_iter = (rows - 1)**2 + 1\n",
    "\n",
    "    for i in range(1, max_iter + 1):\n",
    "        T = np.linalg.matrix_power(matrix, i)\n",
    "        # print(T)\n",
    "        contains_zero = any(0 in row for row in matrix)\n",
    "        if contains_zero == True:\n",
    "          return False\n",
    "          break\n",
    "    return True\n",
    "\n",
    "def steady_state_matrix(matrix):\n",
    "    if not regular_matrix(matrix):\n",
    "        return \"Cannot compute steady state: matrix is not regular.\"\n",
    "\n",
    "    orientation = determine_orientation(matrix)\n",
    "    #print(orientation)\n",
    "    if orientation == \"Row\":\n",
    "        matrix = matrix.T\n",
    "\n",
    "    rows, columns = np.shape(matrix)\n",
    "    A = np.vstack((matrix - np.eye(columns), np.ones(columns)))  # Subtracting identity matrix and adding a row of ones\n",
    "\n",
    "    b = np.zeros((columns + 1, 1))  # Creating b with an extra row for the sum constraint\n",
    "    b[-1] = 1  # Setting the last row to 1 to enforce sum of probabilities\n",
    "\n",
    "    result, residuals, rank, s = np.linalg.lstsq(A, b, rcond=None)  # Solving the system\n",
    "    return result\n",
    "\n"
   ]
  },
  {
   "cell_type": "code",
   "execution_count": 20,
   "metadata": {},
   "outputs": [
    {
     "name": "stdout",
     "output_type": "stream",
     "text": [
      "Steady State: \n",
      " [[0.125]\n",
      " [0.3  ]\n",
      " [0.575]]\n"
     ]
    }
   ],
   "source": [
    "T = np.array([\n",
    "    [0.3, 0.5, 0.2],\n",
    "    [0.1, 0.6, 0.3],\n",
    "    [0.1, 0.1, 0.8]\n",
    "])\n",
    "steady_state = steady_state_matrix(T)\n",
    "print(\"Steady State: \\n\", steady_state)"
   ]
  },
  {
   "cell_type": "markdown",
   "metadata": {},
   "source": [
    "# Souces\n",
    "- https://math.libretexts.org/Bookshelves/Applied_Mathematics/Applied_Finite_Mathematics_(Sekhon_and_Bloom)/10%3A_Markov_Chains\n",
    "- Elementary Linear Algebra by Ron Larson Chapter 2.5"
   ]
  }
 ],
 "metadata": {
  "kernelspec": {
   "display_name": "Python 3",
   "language": "python",
   "name": "python3"
  },
  "language_info": {
   "codemirror_mode": {
    "name": "ipython",
    "version": 3
   },
   "file_extension": ".py",
   "mimetype": "text/x-python",
   "name": "python",
   "nbconvert_exporter": "python",
   "pygments_lexer": "ipython3",
   "version": "3.11.8"
  }
 },
 "nbformat": 4,
 "nbformat_minor": 2
}
