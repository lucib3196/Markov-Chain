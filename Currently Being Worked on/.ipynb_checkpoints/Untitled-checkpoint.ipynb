{
 "cells": [
  {
   "cell_type": "code",
   "execution_count": 3,
   "id": "8c6209e7-c378-4f49-9b85-5005c710bf46",
   "metadata": {},
   "outputs": [],
   "source": [
    "import numpy as np"
   ]
  },
  {
   "cell_type": "code",
   "execution_count": 4,
   "id": "571cb6c0-d6d0-404f-8d35-4f0adb8d4d98",
   "metadata": {},
   "outputs": [
    {
     "name": "stdout",
     "output_type": "stream",
     "text": [
      "[[0.7  0.15 0.15]\n",
      " [0.2  0.8  0.15]\n",
      " [0.1  0.05 0.7 ]]\n"
     ]
    }
   ],
   "source": [
    "a = np.array([[0.7 , 0.15, 0.15] ,\n",
    " [0.2 , 0.8 , 0.15] ,\n",
    " [0.1 , 0.05, 0.7 ]])\n",
    "\n",
    "print(a)"
   ]
  },
  {
   "cell_type": "code",
   "execution_count": 18,
   "id": "e9922495-c757-4cd8-825c-a19331e707d0",
   "metadata": {},
   "outputs": [],
   "source": [
    "n = (a.size) ** (.5)"
   ]
  },
  {
   "cell_type": "code",
   "execution_count": 21,
   "id": "83136d7b-a864-420a-bcac-c0fbe51df376",
   "metadata": {},
   "outputs": [],
   "source": [
    "n = int(n)"
   ]
  },
  {
   "cell_type": "code",
   "execution_count": 22,
   "id": "bbb19dca-4fc0-47d6-bee2-31e112c2135f",
   "metadata": {},
   "outputs": [
    {
     "data": {
      "text/plain": [
       "3"
      ]
     },
     "execution_count": 22,
     "metadata": {},
     "output_type": "execute_result"
    }
   ],
   "source": [
    "n"
   ]
  },
  {
   "cell_type": "code",
   "execution_count": 26,
   "id": "e78b7097-feff-47a1-9f18-d5e689718c46",
   "metadata": {},
   "outputs": [
    {
     "data": {
      "text/plain": [
       "0.7"
      ]
     },
     "execution_count": 26,
     "metadata": {},
     "output_type": "execute_result"
    }
   ],
   "source": [
    "a[0,0]"
   ]
  },
  {
   "cell_type": "code",
   "execution_count": 56,
   "id": "5b566e2b-ca9d-4ebe-8f6b-1801747024a2",
   "metadata": {},
   "outputs": [],
   "source": [
    "for i in range(n):\n",
    "    x= (a.transpose()[i].sum()).round(2)\n",
    "    if x != 1:\n",
    "        print ('Transition Matrix Values Must add up to 1')"
   ]
  },
  {
   "cell_type": "code",
   "execution_count": 57,
   "id": "cefda57e-c94f-41ea-a99a-31d2947070e1",
   "metadata": {},
   "outputs": [
    {
     "data": {
      "text/plain": [
       "array([[0.7 , 0.2 , 0.1 ],\n",
       "       [0.15, 0.8 , 0.05],\n",
       "       [0.15, 0.15, 0.7 ]])"
      ]
     },
     "execution_count": 57,
     "metadata": {},
     "output_type": "execute_result"
    }
   ],
   "source": [
    "a.transpose()"
   ]
  },
  {
   "cell_type": "code",
   "execution_count": null,
   "id": "f92ac607-7af5-40cf-8a8f-6a9e509054b3",
   "metadata": {},
   "outputs": [],
   "source": []
  }
 ],
 "metadata": {
  "kernelspec": {
   "display_name": "Python 3 (ipykernel)",
   "language": "python",
   "name": "python3"
  },
  "language_info": {
   "codemirror_mode": {
    "name": "ipython",
    "version": 3
   },
   "file_extension": ".py",
   "mimetype": "text/x-python",
   "name": "python",
   "nbconvert_exporter": "python",
   "pygments_lexer": "ipython3",
   "version": "3.9.6"
  }
 },
 "nbformat": 4,
 "nbformat_minor": 5
}
