{
 "cells": [
  {
   "cell_type": "code",
   "execution_count": 3,
   "id": "8c6209e7-c378-4f49-9b85-5005c710bf46",
   "metadata": {},
   "outputs": [],
   "source": [
    "import numpy as np"
   ]
  },
  {
   "cell_type": "code",
   "execution_count": 4,
   "id": "571cb6c0-d6d0-404f-8d35-4f0adb8d4d98",
   "metadata": {},
   "outputs": [
    {
     "name": "stdout",
     "output_type": "stream",
     "text": [
      "[[0.7  0.15 0.15]\n",
      " [0.2  0.8  0.15]\n",
      " [0.1  0.05 0.7 ]]\n"
     ]
    }
   ],
   "source": [
    "a = np.array([[0.7 , 0.15, 0.15] ,\n",
    " [0.2 , 0.8 , 0.15] ,\n",
    " [0.1 , 0.05, 0.7 ]])\n",
    "\n",
    "print(a)"
   ]
  },
  {
   "cell_type": "code",
   "execution_count": 5,
   "id": "e9922495-c757-4cd8-825c-a19331e707d0",
   "metadata": {},
   "outputs": [],
   "source": [
    "n = (a.size) ** (.5)"
   ]
  },
  {
   "cell_type": "code",
   "execution_count": 6,
   "id": "83136d7b-a864-420a-bcac-c0fbe51df376",
   "metadata": {},
   "outputs": [],
   "source": [
    "n = int(n)"
   ]
  },
  {
   "cell_type": "code",
   "execution_count": 7,
   "id": "bbb19dca-4fc0-47d6-bee2-31e112c2135f",
   "metadata": {},
   "outputs": [
    {
     "data": {
      "text/plain": [
       "3"
      ]
     },
     "execution_count": 7,
     "metadata": {},
     "output_type": "execute_result"
    }
   ],
   "source": [
    "n"
   ]
  },
  {
   "cell_type": "code",
   "execution_count": 8,
   "id": "e78b7097-feff-47a1-9f18-d5e689718c46",
   "metadata": {},
   "outputs": [
    {
     "data": {
      "text/plain": [
       "0.7"
      ]
     },
     "execution_count": 8,
     "metadata": {},
     "output_type": "execute_result"
    }
   ],
   "source": [
    "a[0,0]"
   ]
  },
  {
   "cell_type": "code",
   "execution_count": 9,
   "id": "5b566e2b-ca9d-4ebe-8f6b-1801747024a2",
   "metadata": {},
   "outputs": [],
   "source": [
    "for i in range(n):\n",
    "    x= (a.transpose()[i].sum()).round(2)\n",
    "    if x != 1:\n",
    "        print ('Transition Matrix Values Must add up to 1')"
   ]
  },
  {
   "cell_type": "code",
   "execution_count": 10,
   "id": "cefda57e-c94f-41ea-a99a-31d2947070e1",
   "metadata": {},
   "outputs": [
    {
     "data": {
      "text/plain": [
       "array([[0.7 , 0.2 , 0.1 ],\n",
       "       [0.15, 0.8 , 0.05],\n",
       "       [0.15, 0.15, 0.7 ]])"
      ]
     },
     "execution_count": 10,
     "metadata": {},
     "output_type": "execute_result"
    }
   ],
   "source": [
    "a.transpose()"
   ]
  },
  {
   "cell_type": "code",
   "execution_count": 12,
   "id": "f92ac607-7af5-40cf-8a8f-6a9e509054b3",
   "metadata": {},
   "outputs": [],
   "source": [
    "b = np.array([.15,.20,.65])"
   ]
  },
  {
   "cell_type": "code",
   "execution_count": 16,
   "id": "fc75c6bf-8879-4afe-8b5f-c0253587ff87",
   "metadata": {},
   "outputs": [],
   "source": [
    "b = b.reshape(3,1)"
   ]
  },
  {
   "cell_type": "code",
   "execution_count": 21,
   "id": "3c275696-17c9-4359-959e-c1536a4dbec9",
   "metadata": {},
   "outputs": [
    {
     "data": {
      "text/plain": [
       "1.0"
      ]
     },
     "execution_count": 21,
     "metadata": {},
     "output_type": "execute_result"
    }
   ],
   "source": [
    "b.sum()"
   ]
  }
 ],
 "metadata": {
  "kernelspec": {
   "display_name": "Python 3 (ipykernel)",
   "language": "python",
   "name": "python3"
  },
  "language_info": {
   "codemirror_mode": {
    "name": "ipython",
    "version": 3
   },
   "file_extension": ".py",
   "mimetype": "text/x-python",
   "name": "python",
   "nbconvert_exporter": "python",
   "pygments_lexer": "ipython3",
   "version": "3.9.6"
  }
 },
 "nbformat": 4,
 "nbformat_minor": 5
}
