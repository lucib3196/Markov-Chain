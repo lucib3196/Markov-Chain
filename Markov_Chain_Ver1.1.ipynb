{
 "cells": [
  {
   "attachments": {
    "466579ce-2166-43ce-a60f-929517d0b77e.png": {
     "image/png": "[encoded data removed]"
    }
   },
   "cell_type": "markdown",
   "id": "36555cc7-2947-46f1-b3e3-74aac80ef4d2",
   "metadata": {},
   "source": [
    "# What is A Markov Chain \n",
    "Markov Chains are used to model the change in population from one state to another\n",
    "\n",
    "**Applications of Markov Chains include:**\n",
    "- What Brand of soda to customers prefer Coke Pepsi or another brand\n",
    "- The amount of airplanes at a given terminal \n",
    "- Voting Demographics \n",
    "\n",
    "# Steady State Matrix\n",
    "As mentioned Markov Chains are used to model the change in population from one state to another. \n",
    "\n",
    "This change in probability can be expressed as the change from the $jth$ state to the $ith$ state. Represented by the number $p_{ij}$ where $0\\le p_{ij} \\le1$\n",
    "\n",
    "- When $p_{ij}=0$ there is 0% probability of change in the system \n",
    "- When $p_{ij}=1$ there is 100% probability of change in the system \n",
    "\n",
    "P is called the **matrix of transition probability** because it gives the possible changes withing a population \n",
    "\n",
    "![image.png](attachment:466579ce-2166-43ce-a60f-929517d0b77e.png)\n"
   ]
  },
  {
   "cell_type": "markdown",
   "id": "26d75543-b29a-43ec-9a2d-e2ee7735d907",
   "metadata": {},
   "source": [
    "# Markov Chain Function \n",
    "## Function Parameters\n",
    "- **Transition_Probability**: A list in the form of decimals will be used to form the matrix of transtion probability\n",
    "- **Initial Population**: A list containing the current population \n",
    "- **Years**: The amount of time passed\n",
    "\n",
    "The function can only deal with three populations nothing more nothing less\n",
    "\n",
    "## Future Updates\n",
    "The Function still has alot of work to be done. The following is just a list of things I want to add\n",
    "- Steady State Matrix \n",
    "- Absorbing Markov Chains \n",
    "- Add parameters to choose how many populations\n",
    "- Add parameters to prevent code from blowing up"
   ]
  },
  {
   "cell_type": "code",
   "execution_count": 179,
   "id": "490e306d-9155-4488-befe-ed886c16da2f",
   "metadata": {},
   "outputs": [],
   "source": [
    "import numpy as np\n",
    "import sympy as sym\n",
    "\n",
    "def Markov_Chain(transition_probability,Initial_Population, Years, Steady_State = False):\n",
    "    \n",
    "    ## Currently only allowed 3 populations\n",
    "    if len(transition_probability) != 9:\n",
    "        return  ValueError(\"List must contain nine numbers.\" )\n",
    "    if len(Initial_Population) !=3:\n",
    "        return  ValueError(\"List must contain 3 numbers.\" )\n",
    "        \n",
    "    # Creates Transition Probability Matrix\n",
    "    P_0 = np.array(transition_probability)\n",
    "    P_0 = P_0.reshape(3,3)\n",
    "    \n",
    "    # If Transition Probability Matrix Values dont add up to 1\n",
    "    if (P_0[0,0] + P_0[1,0] + P_0[2,0]).round(2) != 1:\n",
    "        return('Error Transition Matrix does not equal 1')\n",
    "    if (P_0[0,2] + P_0[1,2] + P_0[2,2]).round(2) != 1:\n",
    "        return('Error Transition Matrix does not equal 1')\n",
    "    if (P_0[0,2] + P_0[1,2] + P_0[2,2]).round(2) != 1:\n",
    "        return('Error Transition Matrix does not equal 1')\n",
    "    \n",
    "    # Creates Initial Population Matrix \n",
    "    X_n= np.array(Initial_Population)\n",
    "    d = X_n.sum()\n",
    "    X_n = X_n/d\n",
    "    X_n = X_n.reshape(3,1)\n",
    "    \n",
    "    \n",
    "    # Calculates the Final Population \n",
    "    for i in range(Years):\n",
    "        X_n =np.matmul(P_0,X_n)\n",
    "    Pop_final = np.around(X_n*d)\n",
    "    \n",
    "    \n",
    "    \n",
    "    # Outputs info\n",
    "    \n",
    "    print( 'The Final Population after ', Years, 'Years')\n",
    "    print('Population A: ' ,Pop_final[0,0])\n",
    "    print('Population B: ' ,Pop_final[1,0])\n",
    "    print('Population C: ' ,Pop_final[2,0])\n",
    "    \n",
    "    \n",
    "    # Calculate the Steay State \n",
    "    if Steady_State: \n",
    "        x,y,z = sym.symbols('x,y,z')\n",
    "        f = sym.Eq( (P_0[0,0]-1)*x  + P_0[0,1]*y + P_0[0,2]*z ,0)\n",
    "        g = sym.Eq(P_0[1,0]*x  + (P_0[1,1]-1)*y + P_0[1,2]*z ,0)\n",
    "        h = sym.Eq(P_0[2,0]*x + P_0[2,1]*y+ (P_0[2,2]-1)*z, 0)\n",
    "        e = sym.Eq(x + y + z, 1)\n",
    "        SS = sym.solve([f,g,h,e],(x,y,z))\n",
    "        X =SS.get(x)\n",
    "        Y =SS.get(y)\n",
    "        Z = SS.get(z)\n",
    "        Steady_State = np.array([X.round(3),Y.round(3),Z.round(3)]).reshape(3,1)\n",
    "        \n",
    "        return Steady_State"
   ]
  },
  {
   "cell_type": "code",
   "execution_count": 178,
   "id": "3b2aa56c-cdae-4c47-82ec-16e7d22dcdd4",
   "metadata": {},
   "outputs": [
    {
     "name": "stdout",
     "output_type": "stream",
     "text": [
      "The Final Population after  3 Years\n",
      "Population A:  30283.0\n",
      "Population B:  39042.0\n",
      "Population C:  30675.0\n"
     ]
    }
   ],
   "source": [
    "Markov_Chain([0.70, 0.15, 0.15, 0.20, 0.80, 0.15,0.10,0.05,0.70], [15000,20000,65000],3)"
   ]
  },
  {
   "cell_type": "code",
   "execution_count": 181,
   "id": "25867430-2537-4f6c-b573-453ffd808b76",
   "metadata": {},
   "outputs": [
    {
     "name": "stdout",
     "output_type": "stream",
     "text": [
      "The Final Population after  3 Years\n",
      "Population A:  30283.0\n",
      "Population B:  39042.0\n",
      "Population C:  30675.0\n"
     ]
    },
    {
     "data": {
      "text/plain": [
       "array([[0.333],\n",
       "       [0.476],\n",
       "       [0.190]], dtype=object)"
      ]
     },
     "execution_count": 181,
     "metadata": {},
     "output_type": "execute_result"
    }
   ],
   "source": [
    "Markov_Chain([0.70, 0.15, 0.15, 0.20, 0.80, 0.15,0.10,0.05,0.70], [15000,20000,65000],3,True)"
   ]
  }
 ],
 "metadata": {
  "kernelspec": {
   "display_name": "Python 3 (ipykernel)",
   "language": "python",
   "name": "python3"
  },
  "language_info": {
   "codemirror_mode": {
    "name": "ipython",
    "version": 3
   },
   "file_extension": ".py",
   "mimetype": "text/x-python",
   "name": "python",
   "nbconvert_exporter": "python",
   "pygments_lexer": "ipython3",
   "version": "3.9.6"
  }
 },
 "nbformat": 4,
 "nbformat_minor": 5
}
